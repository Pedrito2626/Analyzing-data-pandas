{
 "cells": [
  {
   "cell_type": "code",
   "execution_count": null,
   "id": "44d124d4",
   "metadata": {},
   "outputs": [
    {
     "name": "stdout",
     "output_type": "stream",
     "text": [
      "La contraseña es válida.\n",
      "['H', 'O', 'O', 'A', 'L', 'C', 'X', 'O', 'L', 'K', 'O', 'I', 'S', 'J', 'A', 'S', 'H', 'D', 'A']\n"
     ]
    }
   ],
   "source": [
    "import re\n",
    "contrasena = input(\"Introduce una contraseña: \")\n",
    "if len(contrasena) < 8:\n",
    "    print(\"La contraseña debe tener al menos 8 caracteres.\")\n",
    "elif not re.search(r\"[A-Z]\", contrasena):\n",
    "    print(\"La contraseña debe contener al menos una letra mayúscula.\")\n",
    "elif not re.search(r\"[0-9]\", contrasena):\n",
    "    print(\"La contraseña debe contener al menos un número.\")\n",
    "elif not re.search(r\"[!@#$%^&*(),.?\\\":{}|<>+-]\", contrasena):\n",
    "    print(\"La contraseña debe contener al menos un carácter especial.\")\n",
    "else:\n",
    "    print(\"La contraseña es válida.\")\n",
    "    print(re.findall(r\"[A-Z]\", contrasena)) #? Encuentra todas las coincidencias de letras mayúsculas\n"
   ]
  }
 ],
 "metadata": {
  "kernelspec": {
   "display_name": ".venv",
   "language": "python",
   "name": "python3"
  },
  "language_info": {
   "codemirror_mode": {
    "name": "ipython",
    "version": 3
   },
   "file_extension": ".py",
   "mimetype": "text/x-python",
   "name": "python",
   "nbconvert_exporter": "python",
   "pygments_lexer": "ipython3",
   "version": "3.11.5"
  }
 },
 "nbformat": 4,
 "nbformat_minor": 5
}
